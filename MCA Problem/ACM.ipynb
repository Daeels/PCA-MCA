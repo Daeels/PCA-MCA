{
 "cells": [
  {
   "cell_type": "code",
   "execution_count": 2,
   "metadata": {},
   "outputs": [],
   "source": [
    "#chargement des données - index_col = 0 pour indiquer que la colonne n°0 est un label\n",
    "import pandas\n",
    "D = pandas.read_excel(\"ACM.xlsx\",sheet_name=\"ACM\",index_col=0) "
   ]
  },
  {
   "cell_type": "code",
   "execution_count": 3,
   "metadata": {},
   "outputs": [
    {
     "name": "stdout",
     "output_type": "stream",
     "text": [
      "<class 'pandas.core.frame.DataFrame'>\n",
      "Index: 8 entries, Beauceron to Labrador\n",
      "Data columns (total 3 columns):\n",
      "Taille       8 non-null object\n",
      "Velocite     8 non-null object\n",
      "Affection    8 non-null object\n",
      "dtypes: object(3)\n",
      "memory usage: 256.0+ bytes\n",
      "None\n"
     ]
    }
   ],
   "source": [
    "#affichage des caractéristiques\n",
    "print(D.info())"
   ]
  },
  {
   "cell_type": "code",
   "execution_count": 5,
   "metadata": {},
   "outputs": [
    {
     "name": "stdout",
     "output_type": "stream",
     "text": [
      "               Taille Velocite Affection\n",
      "Chien                                   \n",
      "Beauceron    Taille++  Veloc++    Affec+\n",
      "Basset         Taill-    Velo-     Affe-\n",
      "Berger-All   Taille++  Veloc++    Affec+\n",
      "Boxer         Taille+   Veloc+    Affec+\n",
      "Bull-Dog       Taill-    Velo-    Affec+\n",
      "Bull-Mastif  Taille++    Velo-     Affe-\n",
      "Caniche        Taill-   Veloc+    Affec+\n",
      "Labrador      Taille+   Veloc+    Affec+\n"
     ]
    }
   ],
   "source": [
    "#récupération des variables actives\n",
    "DActives = D[['Taille','Velocite','Affection']] \n",
    "print(DActives)"
   ]
  },
  {
   "cell_type": "code",
   "execution_count": 6,
   "metadata": {
    "collapsed": true
   },
   "outputs": [],
   "source": [
    "#récupération des infos - \n",
    "#nombre de variables\n",
    "p = DActives.shape[1] \n",
    "#nombre d'observations\n",
    "n = DActives.shape[0]"
   ]
  },
  {
   "cell_type": "code",
   "execution_count": 7,
   "metadata": {},
   "outputs": [
    {
     "name": "stdout",
     "output_type": "stream",
     "text": [
      "             Taill-  Taille+  Taille++  Velo-  Veloc+  Veloc++  Affe-  Affec+\n",
      "Chien                                                                        \n",
      "Beauceron         0        0         1      0       0        1      0       1\n",
      "Basset            1        0         0      1       0        0      1       0\n",
      "Berger-All        0        0         1      0       0        1      0       1\n",
      "Boxer             0        1         0      0       1        0      0       1\n",
      "Bull-Dog          1        0         0      1       0        0      0       1\n",
      "Bull-Mastif       0        0         1      1       0        0      1       0\n",
      "Caniche           1        0         0      0       1        0      0       1\n",
      "Labrador          0        1         0      0       1        0      0       1\n"
     ]
    }
   ],
   "source": [
    "#codage en 0/1 – les noms de modalités sont explicites\n",
    "#pas nécessaire de préfixer les indicatrices par les noms de variables \n",
    "X = pandas.get_dummies(DActives,prefix='',prefix_sep='')\n",
    "print(X)"
   ]
  },
  {
   "cell_type": "code",
   "execution_count": 9,
   "metadata": {},
   "outputs": [
    {
     "name": "stdout",
     "output_type": "stream",
     "text": [
      "[ 0.125       0.08333333  0.125       0.125       0.125       0.08333333\n",
      "  0.08333333  0.25      ]\n"
     ]
    }
   ],
   "source": [
    "#librairie numpy\n",
    "import numpy\n",
    "#profil individu moyen\n",
    "ind_moy = numpy.sum(X.values,axis=0)/(n*p) \n",
    "print(ind_moy)"
   ]
  },
  {
   "cell_type": "code",
   "execution_count": 11,
   "metadata": {},
   "outputs": [
    {
     "name": "stdout",
     "output_type": "stream",
     "text": [
      "5.77777777778\n",
      "3.55555555556\n"
     ]
    }
   ],
   "source": [
    "#distance du KHI-2 entre beauceron (n°0) et basset (n°1)\n",
    "print(numpy.sum(1/ind_moy*(X.values[0,:]/p-X.values[1,:]/p)**2))\n",
    "\n",
    "#idem entre basset(n°1) et caniche(n°6)\n",
    "print(numpy.sum(1/ind_moy*(X.values[1,:]/p-X.values[6,:]/p)**2)) "
   ]
  },
  {
   "cell_type": "code",
   "execution_count": 13,
   "metadata": {},
   "outputs": [
    {
     "name": "stdout",
     "output_type": "stream",
     "text": [
      "2.11111111111\n",
      "1.22222222222\n"
     ]
    }
   ],
   "source": [
    "#distance à l'origine du basset (n°1)\n",
    "print(numpy.sum(1/ind_moy*(X.values[1,:]/p-ind_moy)**2))\n",
    "#distance à l'origine du caniche (n°6)\n",
    "print(numpy.sum(1/ind_moy*(X.values[6,:]/p-ind_moy)**2))"
   ]
  },
  {
   "cell_type": "code",
   "execution_count": 14,
   "metadata": {},
   "outputs": [
    {
     "name": "stdout",
     "output_type": "stream",
     "text": [
      "                 0         1         2\n",
      "Chien                                 \n",
      "Beauceron    0.125  1.666667  0.208333\n",
      "Basset       0.125  2.111111  0.263889\n",
      "Berger-All   0.125  1.666667  0.208333\n",
      "Boxer        0.125  1.666667  0.208333\n",
      "Bull-Dog     0.125  1.222222  0.152778\n",
      "Bull-Mastif  0.125  2.111111  0.263889\n",
      "Caniche      0.125  1.222222  0.152778\n",
      "Labrador     0.125  1.666667  0.208333\n"
     ]
    }
   ],
   "source": [
    "#distance à l'origine des individus (obs.)\n",
    "disto_ind = numpy.apply_along_axis(arr=X.values,axis=1,func1d=lambda x:numpy.sum(1 /ind_moy*(x/p-ind_moy)**2))\n",
    "#poids des obs.\n",
    "poids_ind = numpy.ones(X.shape[0])/n \n",
    "#inertie\n",
    "inertie_ind = poids_ind*disto_ind \n",
    "#afffichage\n",
    "print(pandas.DataFrame(numpy.transpose([poids_ind,disto_ind,inertie_ind]),index=D.index))\n",
    "#poids (1/n), leurs distances à l’origine, leurs inerties [1/𝑑2(𝑖)]"
   ]
  },
  {
   "cell_type": "code",
   "execution_count": 15,
   "metadata": {},
   "outputs": [
    {
     "name": "stdout",
     "output_type": "stream",
     "text": [
      "1.66666666667\n"
     ]
    }
   ],
   "source": [
    "#inerrie totale\n",
    "inertie_tot_ind = numpy.sum(inertie_ind) \n",
    "print(inertie_tot_ind)"
   ]
  },
  {
   "cell_type": "code",
   "execution_count": null,
   "metadata": {
    "collapsed": true
   },
   "outputs": [],
   "source": [
    "#L’information totale portée par les données, comptabilisée via les distances entre individus, est égale à (𝐼 = 1.6667)."
   ]
  },
  {
   "cell_type": "code",
   "execution_count": null,
   "metadata": {
    "collapsed": true
   },
   "outputs": [],
   "source": [
    "# 2 Analyse des associations entre les modalités"
   ]
  },
  {
   "cell_type": "code",
   "execution_count": null,
   "metadata": {
    "collapsed": true
   },
   "outputs": [],
   "source": [
    "#Distance entre modalités"
   ]
  },
  {
   "cell_type": "code",
   "execution_count": 17,
   "metadata": {},
   "outputs": [
    {
     "name": "stdout",
     "output_type": "stream",
     "text": [
      "[3 2 3 3 3 2 2 6]\n"
     ]
    }
   ],
   "source": [
    "#somme en colonne\n",
    "somme_col = numpy.sum(X.values,axis=0) \n",
    "print(somme_col)"
   ]
  },
  {
   "cell_type": "code",
   "execution_count": 78,
   "metadata": {},
   "outputs": [
    {
     "ename": "TypeError",
     "evalue": "list indices must be integers or slices, not tuple",
     "output_type": "error",
     "traceback": [
      "\u001b[0;31m---------------------------------------------------------------------------\u001b[0m",
      "\u001b[0;31mTypeError\u001b[0m                                 Traceback (most recent call last)",
      "\u001b[0;32m<ipython-input-78-57336eea6fa7>\u001b[0m in \u001b[0;36m<module>\u001b[0;34m()\u001b[0m\n\u001b[1;32m      1\u001b[0m \u001b[0;31m# avec les listes , slicing ne fonctionne pas\u001b[0m\u001b[0;34m\u001b[0m\u001b[0;34m\u001b[0m\u001b[0m\n\u001b[1;32m      2\u001b[0m \u001b[0mM\u001b[0m\u001b[0;34m=\u001b[0m\u001b[0;34m[\u001b[0m\u001b[0;34m[\u001b[0m\u001b[0;36m1\u001b[0m\u001b[0;34m,\u001b[0m\u001b[0;36m2\u001b[0m\u001b[0;34m,\u001b[0m\u001b[0;36m3\u001b[0m\u001b[0;34m]\u001b[0m\u001b[0;34m,\u001b[0m\u001b[0;34m[\u001b[0m\u001b[0;36m4\u001b[0m\u001b[0;34m,\u001b[0m\u001b[0;36m5\u001b[0m\u001b[0;34m,\u001b[0m\u001b[0;36m6\u001b[0m\u001b[0;34m]\u001b[0m\u001b[0;34m,\u001b[0m\u001b[0;34m[\u001b[0m\u001b[0;36m7\u001b[0m\u001b[0;34m,\u001b[0m\u001b[0;36m8\u001b[0m\u001b[0;34m,\u001b[0m\u001b[0;36m9\u001b[0m\u001b[0;34m]\u001b[0m\u001b[0;34m]\u001b[0m\u001b[0;34m\u001b[0m\u001b[0m\n\u001b[0;32m----> 3\u001b[0;31m \u001b[0mM\u001b[0m\u001b[0;34m[\u001b[0m\u001b[0;34m:\u001b[0m \u001b[0;34m,\u001b[0m \u001b[0;36m0\u001b[0m\u001b[0;34m]\u001b[0m\u001b[0;34m\u001b[0m\u001b[0m\n\u001b[0m",
      "\u001b[0;31mTypeError\u001b[0m: list indices must be integers or slices, not tuple"
     ]
    }
   ],
   "source": [
    "# avec les listes , slicing ne fonctionne pas \n",
    "M=[[1,2,3],[4,5,6],[7,8,9]]\n",
    "M[: , 0]"
   ]
  },
  {
   "cell_type": "code",
   "execution_count": 76,
   "metadata": {},
   "outputs": [
    {
     "data": {
      "text/plain": [
       "array([1, 4, 7])"
      ]
     },
     "execution_count": 76,
     "metadata": {},
     "output_type": "execute_result"
    }
   ],
   "source": [
    "# on doit travailler avec array (Tableau) ( ca marche tres bien)\n",
    "M=numpy.array([[1,2,3],[4,5,6],[7,8,9]])\n",
    "M[: , 0]"
   ]
  },
  {
   "cell_type": "code",
   "execution_count": 18,
   "metadata": {},
   "outputs": [
    {
     "name": "stdout",
     "output_type": "stream",
     "text": [
      "1.33333333333\n"
     ]
    }
   ],
   "source": [
    "#distance entre taille- (2) et velocite- (5)\n",
    "print(numpy.sum(n*((X.values[:,2]/somme_col[2]-X.values[:,5]/somme_col[5])**2)))"
   ]
  },
  {
   "cell_type": "code",
   "execution_count": null,
   "metadata": {
    "collapsed": true
   },
   "outputs": [],
   "source": []
  },
  {
   "cell_type": "code",
   "execution_count": 19,
   "metadata": {},
   "outputs": [
    {
     "name": "stdout",
     "output_type": "stream",
     "text": [
      "3.55555555556\n"
     ]
    }
   ],
   "source": [
    "#distance entre taille- (2) et velocite+ (3)\n",
    "print(numpy.sum(n*((X.values[:,2]/somme_col[2]-X.values[:,3]/somme_col[3])**2)))"
   ]
  },
  {
   "cell_type": "code",
   "execution_count": null,
   "metadata": {
    "collapsed": true
   },
   "outputs": [],
   "source": [
    "#Distance à l’origine"
   ]
  },
  {
   "cell_type": "code",
   "execution_count": 21,
   "metadata": {},
   "outputs": [
    {
     "name": "stdout",
     "output_type": "stream",
     "text": [
      "1.66666666667\n"
     ]
    }
   ],
   "source": [
    "#profil moyen des variables-modalités\n",
    "moda_moy = numpy.ones(X.shape[0])/n\n",
    "#distance à l'origine taille-\n",
    "print(numpy.sum(n*((X.values[:,0]/somme_col[0]-moda_moy)**2)))"
   ]
  },
  {
   "cell_type": "code",
   "execution_count": 22,
   "metadata": {},
   "outputs": [
    {
     "name": "stdout",
     "output_type": "stream",
     "text": [
      "3.0\n"
     ]
    }
   ],
   "source": [
    "#distance à l'origine taille+\n",
    "print(numpy.sum(n*((X.values[:,1]/somme_col[1]-moda_moy)**2)))"
   ]
  },
  {
   "cell_type": "code",
   "execution_count": null,
   "metadata": {
    "collapsed": true
   },
   "outputs": [],
   "source": [
    "#Inertie totale"
   ]
  },
  {
   "cell_type": "code",
   "execution_count": 25,
   "metadata": {},
   "outputs": [
    {
     "name": "stdout",
     "output_type": "stream",
     "text": [
      "             Poids     Disto   Inertie\n",
      "Taill-    0.125000  1.666667  0.208333\n",
      "Taille+   0.083333  3.000000  0.250000\n",
      "Taille++  0.125000  1.666667  0.208333\n",
      "Velo-     0.125000  1.666667  0.208333\n",
      "Veloc+    0.125000  1.666667  0.208333\n",
      "Veloc++   0.083333  3.000000  0.250000\n",
      "Affe-     0.083333  3.000000  0.250000\n",
      "Affec+    0.250000  0.333333  0.083333\n"
     ]
    }
   ],
   "source": [
    "#poids des variables_modalités (points modalités)\n",
    "poids_moda = somme_col/(n*p)\n",
    "#distance à l'origine des points modalités\n",
    "disto_moda = numpy.apply_along_axis(arr=X.values/somme_col,axis=0,func1d=lambda x: numpy.sum(n*(x-moda_moy)**2))\n",
    "#inertie\n",
    "inertie_moda = poids_moda * disto_moda\n",
    "#affichage\n",
    "print(pandas.DataFrame(numpy.transpose([poids_moda,disto_moda,inertie_moda]),index =X.columns,columns=['Poids','Disto','Inertie']))"
   ]
  },
  {
   "cell_type": "code",
   "execution_count": null,
   "metadata": {
    "collapsed": true
   },
   "outputs": [],
   "source": [
    "#Remarque\n",
    "#La valeur de l’inertie totale obtenue via le point de vue des modalités est strictement identique à celle \n",
    "#exprimée à partir de l’analyse des proximités entre les individus . \n",
    "#Nous avons deux manières d’appréhender les données, mais il s’agit bien des mêmes données.\n",
    "#Nous constatons de surcroît que les modalités (Taille+, Veloc++, Affec-) sont celles qui \n",
    "#contribuent le plus à l’information globale."
   ]
  },
  {
   "cell_type": "code",
   "execution_count": 27,
   "metadata": {},
   "outputs": [
    {
     "name": "stdout",
     "output_type": "stream",
     "text": [
      "1.66666666667\n"
     ]
    }
   ],
   "source": [
    "#inertie totale des points-modalités\n",
    "inertie_tot_moda = numpy.sum(inertie_moda) \n",
    "print(inertie_tot_moda)"
   ]
  },
  {
   "cell_type": "code",
   "execution_count": 24,
   "metadata": {
    "collapsed": true
   },
   "outputs": [],
   "source": [
    "#ACM via une ACP sur le tableau des profils "
   ]
  },
  {
   "cell_type": "code",
   "execution_count": null,
   "metadata": {
    "collapsed": true
   },
   "outputs": [],
   "source": [
    "#Nous réduisons les variables par la racine carrée de leur variance c.-à-d. l’écart-type."
   ]
  },
  {
   "cell_type": "code",
   "execution_count": 29,
   "metadata": {},
   "outputs": [
    {
     "name": "stdout",
     "output_type": "stream",
     "text": [
      "               Taill-   Taille+  Taille++     Velo-    Veloc+   Veloc++  \\\n",
      "Chien                                                                     \n",
      "Beauceron    0.000000  0.000000  0.333333  0.000000  0.000000  0.333333   \n",
      "Basset       0.333333  0.000000  0.000000  0.333333  0.000000  0.000000   \n",
      "Berger-All   0.000000  0.000000  0.333333  0.000000  0.000000  0.333333   \n",
      "Boxer        0.000000  0.333333  0.000000  0.000000  0.333333  0.000000   \n",
      "Bull-Dog     0.333333  0.000000  0.000000  0.333333  0.000000  0.000000   \n",
      "Bull-Mastif  0.000000  0.000000  0.333333  0.333333  0.000000  0.000000   \n",
      "Caniche      0.333333  0.000000  0.000000  0.000000  0.333333  0.000000   \n",
      "Labrador     0.000000  0.333333  0.000000  0.000000  0.333333  0.000000   \n",
      "\n",
      "                Affe-    Affec+  \n",
      "Chien                            \n",
      "Beauceron    0.000000  0.333333  \n",
      "Basset       0.333333  0.000000  \n",
      "Berger-All   0.000000  0.333333  \n",
      "Boxer        0.000000  0.333333  \n",
      "Bull-Dog     0.000000  0.333333  \n",
      "Bull-Mastif  0.333333  0.000000  \n",
      "Caniche      0.000000  0.333333  \n",
      "Labrador     0.000000  0.333333  \n"
     ]
    }
   ],
   "source": [
    "profil = numpy.apply_along_axis(arr=X.values,axis=1,func1d=lambda x:x/numpy.sum(x)) \n",
    "print(pandas.DataFrame(profil,index=X.index,columns=X.columns))"
   ]
  },
  {
   "cell_type": "code",
   "execution_count": 30,
   "metadata": {},
   "outputs": [
    {
     "name": "stdout",
     "output_type": "stream",
     "text": [
      "[[ 0.          0.          2.06559112  0.          0.          2.30940108\n",
      "   0.          2.30940108]\n",
      " [ 2.06559112  0.          0.          2.06559112  0.          0.\n",
      "   2.30940108  0.        ]\n",
      " [ 0.          0.          2.06559112  0.          0.          2.30940108\n",
      "   0.          2.30940108]\n",
      " [ 0.          2.30940108  0.          0.          2.06559112  0.          0.\n",
      "   2.30940108]\n",
      " [ 2.06559112  0.          0.          2.06559112  0.          0.          0.\n",
      "   2.30940108]\n",
      " [ 0.          0.          2.06559112  2.06559112  0.          0.\n",
      "   2.30940108  0.        ]\n",
      " [ 2.06559112  0.          0.          0.          2.06559112  0.          0.\n",
      "   2.30940108]\n",
      " [ 0.          2.30940108  0.          0.          2.06559112  0.          0.\n",
      "   2.30940108]]\n"
     ]
    }
   ],
   "source": [
    "#Nous réduisons les variables par la racine carrée de leur variance c.-à-d. l’écart-type.\n",
    "#réduire les profils\n",
    "profil = profil/numpy.std(profil,axis=0,ddof=0)\n",
    "print(profil)"
   ]
  },
  {
   "cell_type": "code",
   "execution_count": 31,
   "metadata": {},
   "outputs": [
    {
     "name": "stdout",
     "output_type": "stream",
     "text": [
      "[ 0.20833333  0.25        0.20833333  0.20833333  0.20833333  0.25        0.25\n",
      "  0.08333333]\n"
     ]
    }
   ],
   "source": [
    "#pondération des modalités\n",
    "pond_moda = (n-somme_col)/(n*p) \n",
    "print(pond_moda)"
   ]
  },
  {
   "cell_type": "code",
   "execution_count": 32,
   "metadata": {},
   "outputs": [
    {
     "name": "stdout",
     "output_type": "stream",
     "text": [
      "[[ 0.          0.          0.94280904  0.          0.          1.15470054\n",
      "   0.          0.66666667]\n",
      " [ 0.94280904  0.          0.          0.94280904  0.          0.\n",
      "   1.15470054  0.        ]\n",
      " [ 0.          0.          0.94280904  0.          0.          1.15470054\n",
      "   0.          0.66666667]\n",
      " [ 0.          1.15470054  0.          0.          0.94280904  0.          0.\n",
      "   0.66666667]\n",
      " [ 0.94280904  0.          0.          0.94280904  0.          0.          0.\n",
      "   0.66666667]\n",
      " [ 0.          0.          0.94280904  0.94280904  0.          0.\n",
      "   1.15470054  0.        ]\n",
      " [ 0.94280904  0.          0.          0.          0.94280904  0.          0.\n",
      "   0.66666667]\n",
      " [ 0.          1.15470054  0.          0.          0.94280904  0.          0.\n",
      "   0.66666667]]\n"
     ]
    }
   ],
   "source": [
    "#appliquer la pondération aux profils\n",
    "profil = profil*numpy.sqrt(pond_moda) \n",
    "print(profil)"
   ]
  },
  {
   "cell_type": "code",
   "execution_count": null,
   "metadata": {
    "collapsed": true
   },
   "outputs": [],
   "source": [
    "#numpy.linalg.eig\n",
    "#"
   ]
  },
  {
   "cell_type": "code",
   "execution_count": 35,
   "metadata": {},
   "outputs": [],
   "source": [
    "R=numpy.corrcoef(X.values,rowvar=False)"
   ]
  },
  {
   "cell_type": "code",
   "execution_count": 36,
   "metadata": {},
   "outputs": [
    {
     "name": "stdout",
     "output_type": "stream",
     "text": [
      "(array([  3.56910019e+00,   2.65189894e+00,   1.27835795e+00,\n",
      "        -1.50908880e-16,   3.40048343e-01,   1.60594584e-01,\n",
      "         7.53627951e-17,   0.00000000e+00]), array([[ -1.97572068e-01,   3.51721627e-01,   6.32064643e-01,\n",
      "         -5.97614305e-01,   2.23488183e-01,   1.75104646e-01,\n",
      "          5.30093358e-02,   3.01605041e-17],\n",
      "       [  3.62565037e-01,   2.39130868e-01,  -4.89295285e-01,\n",
      "         -5.34522484e-01,  -3.89068180e-01,   3.67239448e-01,\n",
      "          4.74129913e-02,   6.69823572e-17],\n",
      "       [ -1.26715960e-01,  -5.65606777e-01,  -1.94425636e-01,\n",
      "         -5.97614305e-01,   1.24504976e-01,  -5.03573594e-01,\n",
      "          5.30093358e-02,  -4.71717356e-17],\n",
      "       [ -4.71079787e-01,   1.79135691e-01,   2.21190999e-02,\n",
      "          4.00891461e-16,  -5.77583745e-01,  -2.34006718e-01,\n",
      "         -5.95258656e-01,  -1.51851997e-17],\n",
      "       [  3.96335443e-01,   3.37794725e-01,  -1.64530188e-01,\n",
      "          1.14945139e-16,   5.10772644e-01,  -2.89328891e-01,\n",
      "         -5.95258656e-01,  -2.94097915e-17],\n",
      "       [  8.35667175e-02,  -5.77945774e-01,   1.59220436e-01,\n",
      "         -1.24706289e-15,   7.46970818e-02,   5.85106998e-01,\n",
      "         -5.32415528e-01,   5.76014892e-17],\n",
      "       [ -4.62316770e-01,   9.74194769e-02,  -3.67676828e-01,\n",
      "         -4.65480057e-16,   3.02577398e-01,   2.23681287e-01,\n",
      "          1.84450459e-16,   7.07106781e-01],\n",
      "       [  4.62316770e-01,  -9.74194769e-02,   3.67676828e-01,\n",
      "          4.65480057e-16,  -3.02577398e-01,  -2.23681287e-01,\n",
      "          9.59407461e-17,   7.07106781e-01]]))\n"
     ]
    }
   ],
   "source": [
    "pr=numpy.linalg.eig(R)\n",
    "print(pr)"
   ]
  },
  {
   "cell_type": "code",
   "execution_count": 38,
   "metadata": {},
   "outputs": [
    {
     "name": "stdout",
     "output_type": "stream",
     "text": [
      "          Val.P             %  cumsum %\n",
      "0  3.569100e+00  4.461375e-01  0.446138\n",
      "1  2.651899e+00  3.314874e-01  0.777625\n",
      "2  1.278358e+00  1.597947e-01  0.937420\n",
      "3  3.400483e-01  4.250604e-02  0.979926\n",
      "4  1.605946e-01  2.007432e-02  1.000000\n",
      "5  7.536280e-17  9.420349e-18  1.000000\n",
      "6  0.000000e+00  0.000000e+00  1.000000\n",
      "7 -1.509089e-16 -1.886361e-17  1.000000\n"
     ]
    }
   ],
   "source": [
    "t=sorted(pr[0],reverse=True)\n",
    "v=t/sum(t)\n",
    "w=numpy.cumsum(v)\n",
    "t=[t,v,w]\n",
    "print(pandas.DataFrame(numpy.transpose(t),columns=['Val.P', '%','cumsum %'],index=range(8)))"
   ]
  },
  {
   "cell_type": "code",
   "execution_count": null,
   "metadata": {
    "collapsed": true
   },
   "outputs": [],
   "source": [
    "#L’ACP ne sait pas qu’il y a des redondances artificielles dans les \n",
    "#données, d’où les facteurs aux variances nulles en excédent."
   ]
  },
  {
   "cell_type": "code",
   "execution_count": 40,
   "metadata": {},
   "outputs": [
    {
     "name": "stdout",
     "output_type": "stream",
     "text": [
      "               Fact.1    Fact.2\n",
      "Chien                          \n",
      "Beauceron   -0.197572  0.351722\n",
      "Basset       0.362565  0.239131\n",
      "Berger-All  -0.126716 -0.565607\n",
      "Boxer       -0.471080  0.179136\n",
      "Bull-Dog     0.396335  0.337795\n",
      "Bull-Mastif  0.083567 -0.577946\n",
      "Caniche     -0.462317  0.097419\n",
      "Labrador     0.462317 -0.097419\n"
     ]
    }
   ],
   "source": [
    "#coordonnées fact. des observations (1er plan)\n",
    "print(pandas.DataFrame(pr[1][:,:2],index=X.index,columns=['Fact.1','Fact.2']))"
   ]
  },
  {
   "cell_type": "code",
   "execution_count": null,
   "metadata": {
    "collapsed": true
   },
   "outputs": [],
   "source": []
  }
 ],
 "metadata": {
  "kernelspec": {
   "display_name": "Python 3",
   "language": "python",
   "name": "python3"
  },
  "language_info": {
   "codemirror_mode": {
    "name": "ipython",
    "version": 3
   },
   "file_extension": ".py",
   "mimetype": "text/x-python",
   "name": "python",
   "nbconvert_exporter": "python",
   "pygments_lexer": "ipython3",
   "version": "3.6.3"
  }
 },
 "nbformat": 4,
 "nbformat_minor": 2
}
